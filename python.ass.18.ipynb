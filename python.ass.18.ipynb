{
 "cells": [
  {
   "cell_type": "markdown",
   "id": "4d022a13",
   "metadata": {},
   "source": [
    "# 1. Create a zoo.py file first. Define the hours() function, which prints the string 'Open 9-5 daily'. Then, use the interactive interpreter to import the zoo module and call its hours() function."
   ]
  },
  {
   "cell_type": "code",
   "execution_count": null,
   "id": "9adb0b21",
   "metadata": {},
   "outputs": [],
   "source": [
    "To accomplish this, you need to create a zoo.py file and define the hours() function inside it. Here's an example of the zoo.py file:\n",
    "# zoo.py\n",
    "\n",
    "def hours():\n",
    "    print('Open 9-5 daily')\n",
    "    \n",
    "Save this code in a file named zoo.py.\n",
    "\n",
    "Then, in the interactive interpreter, you can import the zoo module and call its hours() function as follows:\n",
    ">>> import zoo\n",
    ">>> zoo.hours()\n",
    "Output:    Open 9-5 daily\n"
   ]
  },
  {
   "cell_type": "markdown",
   "id": "20900911",
   "metadata": {},
   "source": [
    "# 2. In the interactive interpreter, import the zoo module as menagerie and call its hours() function."
   ]
  },
  {
   "cell_type": "markdown",
   "id": "49c66220",
   "metadata": {},
   "source": [
    "To import the zoo module as menagerie in the interactive interpreter and call its hours() function, you can follow these steps:\n",
    ">>> import zoo as menagerie\n",
    ">>> menagerie.hours()\n",
    "\n",
    "In this code, the import statement imports the zoo module and assigns it the alias menagerie. Then, you can use the alias menagerie to access the functions and variables defined in the zoo module. By calling menagerie.hours(), you execute the hours() function from the zoo module.\n",
    "\n",
    "The output will be:     Open 9-5 daily\n"
   ]
  },
  {
   "cell_type": "markdown",
   "id": "9c14c417",
   "metadata": {},
   "source": [
    "# 3. Using the interpreter, explicitly import and call the hours() function from zoo.\n",
    "\n"
   ]
  },
  {
   "cell_type": "markdown",
   "id": "d82e1748",
   "metadata": {},
   "source": [
    "To explicitly import and call the hours() function from the zoo module in the interactive interpreter, you can follow these steps:\n",
    "\n",
    ">>> from zoo import hours\n",
    ">>> hours()\n",
    "\n",
    "In this code, the from statement imports only the hours() function from the zoo module. By calling hours(), you directly execute the hours() function without referencing the module name."
   ]
  },
  {
   "cell_type": "markdown",
   "id": "9d085dd4",
   "metadata": {},
   "source": [
    "# 4. Import the hours() function as info and call it."
   ]
  },
  {
   "cell_type": "markdown",
   "id": "6e29d093",
   "metadata": {},
   "source": [
    "To import the hours() function from the zoo module as info and call it, you can follow these steps:\n",
    ">>> from zoo import hours as info\n",
    ">>> info()\n",
    "\n",
    "In this code, the from statement imports the hours() function from the zoo module and assigns it the alias info. By calling info(), you execute the hours() function using the alias.\n",
    "As you can see, the hours() function from the zoo module, imported as info, is successfully called and prints the specified string."
   ]
  },
  {
   "cell_type": "markdown",
   "id": "60ccff70",
   "metadata": {},
   "source": [
    "# 5. Create a plain dictionary with the key-value pairs 'a': 1, 'b': 2, and 'c': 3, and print it out."
   ]
  },
  {
   "cell_type": "markdown",
   "id": "de97ad7f",
   "metadata": {},
   "source": [
    "To create a plain dictionary with the key-value pairs 'a': 1, 'b': 2, and 'c': 3, and print it out, you can follow these steps:\n",
    "                \n",
    "my_dict = {'a': 1, 'b': 2, 'c': 3}\n",
    "print(my_dict)\n",
    " \n",
    "In this code, the dictionary is defined with the key-value pairs enclosed in curly braces {}. The keys 'a', 'b', and 'c' are associated with the respective values 1, 2, and 3.\n",
    "\n",
    "The output will be:\n",
    " {'a': 1, 'b': 2, 'c': 3}\n",
    "As you can see, the dictionary with the specified key-value pairs is printed out.   "
   ]
  },
  {
   "cell_type": "markdown",
   "id": "cec6626b",
   "metadata": {},
   "source": [
    "# 6.Make an OrderedDict called fancy from the same pairs listed in 5 and print it. Did it print in the same order as plain?"
   ]
  },
  {
   "cell_type": "markdown",
   "id": "31e02d07",
   "metadata": {},
   "source": [
    "To create an OrderedDict called fancy with the same key-value pairs listed in question 5 and print it, you can use the OrderedDict class from the collections module. Here's an example:\n",
    "from collections import OrderedDict\n",
    "\n",
    "fancy = OrderedDict([('a', 1), ('b', 2), ('c', 3)])\n",
    "print(fancy)\n",
    "\n",
    "In this code, the OrderedDict is created by passing a list of tuples containing the key-value pairs to the OrderedDict constructor.\n",
    "\n",
    "The output will be:\n",
    "OrderedDict([('a', 1), ('b', 2), ('c', 3)])\n",
    "\n",
    "Yes, the OrderedDict maintains the order of insertion, so the key-value pairs are printed in the same order as in the plain dictionary.\n",
    "\n",
    "Note that starting from Python 3.7, regular dictionaries also preserve the order of insertion. So, if you're using Python 3.7 or above, the plain dictionary may also preserve the order."
   ]
  },
  {
   "cell_type": "markdown",
   "id": "ad31deee",
   "metadata": {},
   "source": [
    "# 7. Make a default dictionary called dict_of_lists and pass it the argument list. Make the list dict_of_lists['a'] and append the value 'something for a' to it in one assignment. Print dict_of_lists['a']."
   ]
  },
  {
   "cell_type": "markdown",
   "id": "0cdb3bbd",
   "metadata": {},
   "source": [
    "To create a defaultdict called dict_of_lists with the default value set as a list, and append the value 'something for a' to the list associated with the key 'a', you can use the defaultdict class from the collections module. Here's an example:\n",
    "from collections import defaultdict\n",
    "\n",
    "dict_of_lists = defaultdict(list)\n",
    "dict_of_lists['a'].append('something for a')\n",
    "print(dict_of_lists['a'])\n",
    "\n",
    "In this code, the defaultdict is created by passing the list type as the argument to the defaultdict constructor. The defaultdict automatically creates an empty list whenever a new key is accessed.\n",
    "\n",
    "The output will be:\n",
    "['something for a']\n",
    "As you can see, the value 'something for a' is appended to the list associated with the key 'a' in one assignment, and then it is printed."
   ]
  }
 ],
 "metadata": {
  "kernelspec": {
   "display_name": "Python 3 (ipykernel)",
   "language": "python",
   "name": "python3"
  },
  "language_info": {
   "codemirror_mode": {
    "name": "ipython",
    "version": 3
   },
   "file_extension": ".py",
   "mimetype": "text/x-python",
   "name": "python",
   "nbconvert_exporter": "python",
   "pygments_lexer": "ipython3",
   "version": "3.9.12"
  }
 },
 "nbformat": 4,
 "nbformat_minor": 5
}
